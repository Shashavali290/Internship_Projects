{
 "cells": [
  {
   "cell_type": "code",
   "execution_count": 15,
   "id": "ce242e5d",
   "metadata": {},
   "outputs": [
    {
     "data": {
      "text/html": [
       "        <script type=\"text/javascript\">\n",
       "        window.PlotlyConfig = {MathJaxConfig: 'local'};\n",
       "        if (window.MathJax) {MathJax.Hub.Config({SVG: {font: \"STIX-Web\"}});}\n",
       "        if (typeof require !== 'undefined') {\n",
       "        require.undef(\"plotly\");\n",
       "        requirejs.config({\n",
       "            paths: {\n",
       "                'plotly': ['https://cdn.plot.ly/plotly-2.9.0.min']\n",
       "            }\n",
       "        });\n",
       "        require(['plotly'], function(Plotly) {\n",
       "            window._Plotly = Plotly;\n",
       "        });\n",
       "        }\n",
       "        </script>\n",
       "        "
      ]
     },
     "metadata": {},
     "output_type": "display_data"
    },
    {
     "data": {
      "text/html": [
       "        <script type=\"text/javascript\">\n",
       "        window.PlotlyConfig = {MathJaxConfig: 'local'};\n",
       "        if (window.MathJax) {MathJax.Hub.Config({SVG: {font: \"STIX-Web\"}});}\n",
       "        if (typeof require !== 'undefined') {\n",
       "        require.undef(\"plotly\");\n",
       "        requirejs.config({\n",
       "            paths: {\n",
       "                'plotly': ['https://cdn.plot.ly/plotly-2.9.0.min']\n",
       "            }\n",
       "        });\n",
       "        require(['plotly'], function(Plotly) {\n",
       "            window._Plotly = Plotly;\n",
       "        });\n",
       "        }\n",
       "        </script>\n",
       "        "
      ]
     },
     "metadata": {},
     "output_type": "display_data"
    }
   ],
   "source": [
    "import numpy as np\n",
    "import pandas as pd\n",
    "import scipy\n",
    "import math\n",
    "import matplotlib.pyplot as plt\n",
    "import re\n",
    "import time\n",
    "import itertools\n",
    "from ngram import NGram\n",
    "from dateutil.parser import parse\n",
    "\n",
    "from chart_studio import plotly as py\n",
    "import plotly.graph_objs as go\n",
    "from plotly.offline import iplot, init_notebook_mode\n",
    "init_notebook_mode(connected=True)\n",
    "\n",
    "import cufflinks as cf\n",
    "cf.go_offline(connected=True)\n",
    "cf.set_config_file(colorscale='plotly', world_readable=True)\n",
    "\n",
    "# Extra options\n",
    "pd.options.display.max_rows = 30\n",
    "pd.options.display.max_columns = 25\n",
    "\n",
    "# Show all code cells outputs\n",
    "from IPython.core.interactiveshell import InteractiveShell\n",
    "InteractiveShell.ast_node_interactivity = 'all'\n",
    "\n",
    "import os\n",
    "from IPython.display import Image, display, HTML\n",
    "\n",
    "import ipywidgets as widgets\n",
    "from ipywidgets import interact, interact_manual\n",
    "\n",
    "from scipy.spatial.distance import pdist, squareform\n",
    "from scipy import stats\n",
    "\n",
    "import missingno as msno\n",
    "from sklearn.impute import SimpleImputer\n",
    "from sklearn.impute import KNNImputer\n",
    "from sklearn.experimental import enable_iterative_imputer\n",
    "from sklearn.impute import IterativeImputer"
   ]
  },
  {
   "cell_type": "code",
   "execution_count": 2,
   "id": "2a464584",
   "metadata": {},
   "outputs": [
    {
     "name": "stdout",
     "output_type": "stream",
     "text": [
      "filepath:insurance.csv\n",
      "delimiter: \n"
     ]
    }
   ],
   "source": [
    "filepath = input(\"filepath:\")\n",
    "delimiter = input(\"delimiter: \")"
   ]
  },
  {
   "cell_type": "code",
   "execution_count": 3,
   "id": "f1245867",
   "metadata": {
    "scrolled": true
   },
   "outputs": [],
   "source": [
    "if delimiter == '':\n",
    "    df = pd.read_csv(filepath)\n",
    "else:\n",
    "    df = pd.read_csv(filepath, sep=delimiter)\n",
    "df[\"id\"] = df.index"
   ]
  },
  {
   "cell_type": "code",
   "execution_count": 4,
   "id": "230237ee",
   "metadata": {},
   "outputs": [
    {
     "name": "stdout",
     "output_type": "stream",
     "text": [
      "\u001b[1mCharacteristics of Input Dataset\u001b[0m\n",
      "Number of fields/characteristics: 8\n",
      "Number of data entries: 1338\n",
      "-----------------------------------------------\n",
      "\u001b[4mNumber of missing entries per column:\u001b[0m\n",
      "age         0\n",
      "sex         0\n",
      "bmi         0\n",
      "children    0\n",
      "smoker      0\n",
      "region      0\n",
      "expenses    0\n",
      "id          0\n",
      "dtype: int64\n",
      "-----------------------------------------------\n",
      "\u001b[4mDatatype of each column:\u001b[0m\n",
      "age           int64\n",
      "sex          object\n",
      "bmi         float64\n",
      "children      int64\n",
      "smoker       object\n",
      "region       object\n",
      "expenses    float64\n",
      "id            int64\n",
      "dtype: object\n"
     ]
    }
   ],
   "source": [
    "print('\\033[1m' + \"Characteristics of Input Dataset\" + '\\033[0m')\n",
    "print(\"Number of fields/characteristics:\", df.shape[1])\n",
    "print(\"Number of data entries:\", df.shape[0])\n",
    "print(\"-----------------------------------------------\")\n",
    "print('\\033[4m' + \"Number of missing entries per column:\" + '\\033[0m')\n",
    "print(df.isnull().sum())\n",
    "print(\"-----------------------------------------------\")\n",
    "print('\\033[4m' + \"Datatype of each column:\"+ '\\033[0m')\n",
    "print(df.dtypes)"
   ]
  },
  {
   "cell_type": "code",
   "execution_count": 5,
   "id": "a1d60a88",
   "metadata": {},
   "outputs": [
    {
     "data": {
      "application/vnd.jupyter.widget-view+json": {
       "model_id": "2bcccf16501d4352b27bb8d5b3193dd4",
       "version_major": 2,
       "version_minor": 0
      },
      "text/plain": [
       "interactive(children=(Dropdown(description='column', options=('age', 'sex', 'bmi', 'children', 'smoker', 'regi…"
      ]
     },
     "metadata": {},
     "output_type": "display_data"
    }
   ],
   "source": [
    "import ipywidgets as widgets\n",
    "from ipywidgets import interact, interact_manual\n",
    "\n",
    "@interact\n",
    "def describe(column=list(df.columns)):\n",
    "    print(df[column].describe())"
   ]
  },
  {
   "cell_type": "code",
   "execution_count": 6,
   "id": "c8089fcf",
   "metadata": {},
   "outputs": [
    {
     "name": "stdout",
     "output_type": "stream",
     "text": [
      "-----------------------------------------------\n",
      "\u001b[4mMost Common Data Entries By Column\u001b[0m\n",
      "\n",
      "\u001b[1m\u001b[4mColumn: age\u001b[0m\n",
      "18    69\n",
      "19    68\n",
      "50    29\n",
      "51    29\n",
      "47    29\n",
      "Name: age, dtype: int64\n",
      "\n",
      "\u001b[1m\u001b[4mColumn: sex\u001b[0m\n",
      "male      676\n",
      "female    662\n",
      "Name: sex, dtype: int64\n",
      "\n",
      "\u001b[1m\u001b[4mColumn: children\u001b[0m\n",
      "0    574\n",
      "1    324\n",
      "2    240\n",
      "3    157\n",
      "4     25\n",
      "Name: children, dtype: int64\n",
      "\n",
      "\u001b[1m\u001b[4mColumn: smoker\u001b[0m\n",
      "no     1064\n",
      "yes     274\n",
      "Name: smoker, dtype: int64\n",
      "\n",
      "\u001b[1m\u001b[4mColumn: region\u001b[0m\n",
      "southeast    364\n",
      "southwest    325\n",
      "northwest    325\n",
      "northeast    324\n",
      "Name: region, dtype: int64\n"
     ]
    }
   ],
   "source": [
    "print(\"-----------------------------------------------\")\n",
    "print('\\033[4m' + \"Most Common Data Entries By Column\" + '\\033[0m')\n",
    "for column in df:\n",
    "    unique_vals = df[column].unique()\n",
    "    if len(unique_vals) < (df.shape[0]/10):\n",
    "        print('\\n'+'\\033[1m' + '\\033[4m' + \"Column: \" + column + '\\033[0m')\n",
    "        print(df[column].value_counts().head())"
   ]
  },
  {
   "cell_type": "code",
   "execution_count": 7,
   "id": "7291c8f2",
   "metadata": {},
   "outputs": [
    {
     "data": {
      "image/png": "[encoded data removed]",
      "text/plain": [
       "<Figure size 1080x1080 with 6 Axes>"
      ]
     },
     "metadata": {
      "needs_background": "light"
     },
     "output_type": "display_data"
    }
   ],
   "source": [
    "count = 0\n",
    "numerical_columns = []\n",
    "for column in df:\n",
    "    if (df[column].dtypes == \"int64\" or df[column].dtypes == \"float64\"):\n",
    "        numerical_columns.append(column)\n",
    "        count += 1\n",
    "\n",
    "fig, axes =  plt.subplots(math.ceil(count/2),2, figsize=(15,5 * math.ceil(count/2)))\n",
    "i=0\n",
    "j=0\n",
    "for col in numerical_columns:\n",
    "    #a[i][j].set_xlabel(col) , \n",
    "    df[col].hist(ax=axes[i][j])\n",
    "    axes[i][j].set_title('Distribution of ' + col)\n",
    "    if j == 1:\n",
    "        j = 0\n",
    "        i += 1\n",
    "    else:\n",
    "        j += 1\n",
    "plt.suptitle(\"Distribution of the Numerical Columns of Dataset\", fontsize=20)\n",
    "fig.tight_layout(rect=[0, 0.03, 1, 0.98]);"
   ]
  },
  {
   "cell_type": "code",
   "execution_count": 8,
   "id": "28dd08b7",
   "metadata": {},
   "outputs": [],
   "source": [
    "from IPython.display import display\n",
    "\n",
    "def duplicate_clean (col):\n",
    "    if (not df[col].is_unique):\n",
    "        print(\"\\n The '\" + col + \"' column contains duplicates, what would you like do? (pick one of the following options)\")\n",
    "        print(\"(1) Keep all duplicates\")\n",
    "        print(\"(2) Drop all duplicates that are identical across all columns\")\n",
    "        print(\"(3) Drop all duplicates of this column\")\n",
    "        time.sleep(0.05)\n",
    "        dup_option = input('\\033[1m' + \"Input the option number: \" + '\\033[0m')\n",
    "        if dup_option == \"1\" or dup_option == \"(1)\":\n",
    "            return\n",
    "        elif dup_option == \"2\" or dup_option == \"(2)\":\n",
    "            df.drop_duplicates(inplace=True)\n",
    "            return\n",
    "        elif dup_option == \"3\" or dup_option == \"(3)\":\n",
    "            print(\"Please specify 'first', 'last', or 'none' to indicate which duplicate, if any, should be kept.\")\n",
    "            time.sleep(0.05)\n",
    "            drop_pref = input('\\033[1m' + \"Input drop preference: \" + '\\033[0m')\n",
    "            if drop_pref == \"none\":\n",
    "                df.drop_duplicates([col], keep=False, inplace=True)\n",
    "                return\n",
    "            else:\n",
    "                df.drop_duplicates([col], keep=drop_pref, inplace=True)\n",
    "                return"
   ]
  },
  {
   "cell_type": "code",
   "execution_count": 9,
   "id": "f8b15abd",
   "metadata": {},
   "outputs": [],
   "source": [
    "# standardize the groupings of a certain column, note that the data must be non-numerical\n",
    "def clean_non_numerical (col):\n",
    "    \n",
    "    # for non-numerical columns with unqiue values more than half the number of rows check for duplicates\n",
    "    unique_vals = df[col].unique()\n",
    "    if (len(unique_vals) > 30):\n",
    "        return duplicate_clean(col)\n",
    "    \n",
    "    # do not consider date columns\n",
    "    def is_date(string):\n",
    "        try: \n",
    "            parse(string)\n",
    "            return True\n",
    "        except ValueError:\n",
    "            return False\n",
    "    \n",
    "    # check if date is valid\n",
    "    for i, row_value in df[col].head(5).iteritems():\n",
    "        if is_date(df[col][i]):\n",
    "            return\n",
    "    \n",
    "    # check for abbreviated nation names\n",
    "    if ('country' in col) or ('COUNTRY' in col) or ('Country' in col):\n",
    "        invalid_df_us = df[(df[col] == 'United States') | (df[col] == 'United States of America') | (df[col] == 'USA') | (df[col] == 'usa') | (df[col] == 'us')]\n",
    "        if invalid_df_us.shape[0] > 0:\n",
    "            print(\"There are \" + str(invalid_df_us.shape[0])+ \" alternate references to the US. These age entries will be all be set to US.\")\n",
    "            df.loc[(df[col] == 'United States') | (df[col] == 'United States of America') | (df[col] == 'USA') | (df[col] == 'usa') | (df[col] == 'us'), [col]] = 'US'\n",
    "        invalid_df_uk = df[(df[col] == 'United Kingdom') | (df[col] == 'uk')]\n",
    "        if invalid_df_us.shape[0] > 0:\n",
    "            print(\"There are \" + str(invalid_df_us.shape[0])+ \" alternate references to the UK. These age entries will be all be set to UK.\")\n",
    "            df.loc[(df[col] == 'United Kingdom') | (df[col] == 'uk'), [col]] = 'UK'\n",
    "        \n",
    "    # establish starting point\n",
    "    unique_vals = ['None' if x is np.nan else x for x in unique_vals]\n",
    "    unique_vals = ['None' if v is None else v for v in unique_vals]\n",
    "    print(\"\\n Initial set of unqiue entries in '\" + col + \"' column: \"+ '\\033[1m' + \", \".join(unique_vals) + '\\033[0m')\n",
    "    \n",
    "    # remove leading and trailing blank spaces\n",
    "    df[col] = df[col].replace(r\"^ +| +$\", r\"\", regex=True)\n",
    "    \n",
    "    # standardize all text to \"title case\"\n",
    "    def title_case(string):\n",
    "        if pd.isnull(string):\n",
    "            return None\n",
    "        return re.sub(r\"[A-Za-z]+('[A-Za-z]+)?\", lambda word: word.group(0).capitalize(), string)\n",
    "    df[col] = df[col].apply(lambda x: title_case(x))\n",
    "    \n",
    "    # compare strings of all titles to see if they can be merged\n",
    "    def ngram_compare(a,b):\n",
    "        if NGram.compare(a,b) > 0.4:\n",
    "            print(\"\\n\", a,b)\n",
    "            time.sleep(0.05)\n",
    "            combine = input(\"Would you consider the above two entries the same? (yes/no) \")\n",
    "            if combine == 'yes' or combine == 'y':\n",
    "                while True:\n",
    "                    time.sleep(0.05)\n",
    "                    combine_to = input(\"To which entry would you like the text to be merged to? (input field name)\")\n",
    "                    if combine_to == a:\n",
    "                        df[col] = df[col].replace({b: a}, regex=True)\n",
    "                        return\n",
    "                    elif combine_to == b:\n",
    "                        df[col] = df[col].replace({a: b}, regex=True)\n",
    "                        return\n",
    "                    else:\n",
    "                        continue\n",
    "    unique_vals = df[col].unique()\n",
    "    for pair in itertools.combinations(unique_vals, r=2):\n",
    "        ngram_compare(*pair)\n",
    "    print(\"\\n\")\n",
    "    # show end point\n",
    "    unique_vals = df[col].unique()\n",
    "    unique_vals = ['None' if v is None else v for v in unique_vals]\n",
    "    print(\"Final set of unqiue entries in '\" + col + \"' column: \"+ '\\033[1m' + \", \".join(unique_vals) + '\\033[0m' +\"\\n\")"
   ]
  },
  {
   "cell_type": "code",
   "execution_count": 10,
   "id": "91f29a7d",
   "metadata": {},
   "outputs": [
    {
     "name": "stdout",
     "output_type": "stream",
     "text": [
      "\n",
      " Initial set of unqiue entries in 'sex' column: \u001b[1mfemale, male\u001b[0m\n",
      "\n",
      "\n",
      "Final set of unqiue entries in 'sex' column: \u001b[1mFemale, Male\u001b[0m\n",
      "\n",
      "\n",
      " Initial set of unqiue entries in 'smoker' column: \u001b[1myes, no\u001b[0m\n",
      "\n",
      "\n",
      "Final set of unqiue entries in 'smoker' column: \u001b[1mYes, No\u001b[0m\n",
      "\n",
      "\n",
      " Initial set of unqiue entries in 'region' column: \u001b[1msouthwest, southeast, northwest, northeast\u001b[0m\n",
      "\n",
      " Southwest Southeast\n",
      "Would you consider the above two entries the same? (yes/no) no\n",
      "\n",
      " Northwest Northeast\n",
      "Would you consider the above two entries the same? (yes/no) no\n",
      "\n",
      "\n",
      "Final set of unqiue entries in 'region' column: \u001b[1mSouthwest, Southeast, Northwest, Northeast\u001b[0m\n",
      "\n",
      "\n",
      "\n",
      "\u001b[1m** Non-Numerical Data Cleaning Complete! **\u001b[0m\n"
     ]
    }
   ],
   "source": [
    "import warnings\n",
    "warnings.filterwarnings('ignore')\n",
    "\n",
    "for column in df:\n",
    "    if(df[column].dtype == object):\n",
    "        clean_non_numerical (column)\n",
    "print(\"\\n\")\n",
    "print('\\033[1m' + \"** Non-Numerical Data Cleaning Complete! **\" + '\\033[0m')"
   ]
  },
  {
   "cell_type": "code",
   "execution_count": 11,
   "id": "ca470688",
   "metadata": {},
   "outputs": [],
   "source": [
    "def clean_numerical (col, df):\n",
    "    \n",
    "    # remove outliers\n",
    "    print( \"Input the number of standard deviations from the mean you are willing to include for the '\" + '\\033[1m' + col + '\\033[0m' + \"' column.\")\n",
    "    print(\"If you wish to keep outliers for this column, please write all.\")\n",
    "    time.sleep(0.05)\n",
    "    sd = input(\"Input standard deviations: \")\n",
    "    if sd != 'all':\n",
    "        cols_outside_sd = df\n",
    "        cols_outside_sd = cols_outside_sd[(np.abs(stats.zscore(df[col])) > int(sd))]\n",
    "        print(\"There are \" +'\\033[1m'+ str(cols_outside_sd.shape[0]) + '\\033[0m' + \" rows that are outliers accoridng to your standard deviation value.\")\n",
    "        if cols_outside_sd.shape[0] > 0:\n",
    "            print(\"These rows will be deleted from the original dataset.\\n\")\n",
    "            df = df[(np.abs(stats.zscore(df[col])) < int(sd))]\n",
    "        else:\n",
    "            print(\"\\n\")\n",
    "    \n",
    "    # remove duplicates\n",
    "    duplicate_clean(col)\n",
    "    print(\"\\n\")\n",
    "    \n",
    "    \n",
    "    \n",
    "    # check if zip code is valid\n",
    "    if ('zip' in col) or ('ZIP' in col):\n",
    "        invalid_df = df[(df[col] < 1) | (df[col] > 99950)]\n",
    "        if invalid_df.shape[0] > 0:\n",
    "            print(\"There are \" + str(invalid_df.shape[0])+ \" invalid ZIP codes in your data. These ZIP entries will be set to null for now.\\n\")\n",
    "            #df.drop(df[(df[col] < 1) | (df[col] > 99950)].index, inplace=True)\n",
    "            df.loc[(df[col] < 1) | (df[col] > 99950), [col]] = np.nan\n",
    "\n",
    "    \n",
    "    # check if age is valid\n",
    "    if ('age' in col) or ('AGE' in col):\n",
    "        invalid_df = df[(df[col] < 0) | (df[col] > 120)]\n",
    "        if invalid_df.shape[0] > 0:\n",
    "            print(\"There are \" + str(invalid_df.shape[0])+ \" invalid ages in your data. These age entries will be set to null for now.\\n\")\n",
    "            df.loc[(df[col] < 0) | (df[col] > 120), [col]] = np.nan"
   ]
  },
  {
   "cell_type": "code",
   "execution_count": 13,
   "id": "b1fe087c",
   "metadata": {},
   "outputs": [
    {
     "name": "stdout",
     "output_type": "stream",
     "text": [
      "Input the number of standard deviations from the mean you are willing to include for the '\u001b[1mage\u001b[0m' column.\n",
      "If you wish to keep outliers for this column, please write all.\n",
      "Input standard deviations: 1\n",
      "There are \u001b[1m576\u001b[0m rows that are outliers accoridng to your standard deviation value.\n",
      "These rows will be deleted from the original dataset.\n",
      "\n",
      "\n",
      " The 'age' column contains duplicates, what would you like do? (pick one of the following options)\n",
      "(1) Keep all duplicates\n",
      "(2) Drop all duplicates that are identical across all columns\n",
      "(3) Drop all duplicates of this column\n",
      "Input the option number: 2\n",
      "\n",
      "\n",
      "Input the number of standard deviations from the mean you are willing to include for the '\u001b[1mbmi\u001b[0m' column.\n",
      "If you wish to keep outliers for this column, please write all.\n",
      "Input standard deviations: 1\n",
      "There are \u001b[1m442\u001b[0m rows that are outliers accoridng to your standard deviation value.\n",
      "These rows will be deleted from the original dataset.\n",
      "\n",
      "\n",
      " The 'bmi' column contains duplicates, what would you like do? (pick one of the following options)\n",
      "(1) Keep all duplicates\n",
      "(2) Drop all duplicates that are identical across all columns\n",
      "(3) Drop all duplicates of this column\n",
      "Input the option number: 2\n",
      "\n",
      "\n",
      "Input the number of standard deviations from the mean you are willing to include for the '\u001b[1mchildren\u001b[0m' column.\n",
      "If you wish to keep outliers for this column, please write all.\n",
      "Input standard deviations: 1\n",
      "There are \u001b[1m200\u001b[0m rows that are outliers accoridng to your standard deviation value.\n",
      "These rows will be deleted from the original dataset.\n",
      "\n",
      "\n",
      " The 'children' column contains duplicates, what would you like do? (pick one of the following options)\n",
      "(1) Keep all duplicates\n",
      "(2) Drop all duplicates that are identical across all columns\n",
      "(3) Drop all duplicates of this column\n",
      "Input the option number: 2\n",
      "\n",
      "\n",
      "Input the number of standard deviations from the mean you are willing to include for the '\u001b[1mexpenses\u001b[0m' column.\n",
      "If you wish to keep outliers for this column, please write all.\n",
      "Input standard deviations: 1\n",
      "There are \u001b[1m208\u001b[0m rows that are outliers accoridng to your standard deviation value.\n",
      "These rows will be deleted from the original dataset.\n",
      "\n",
      "\n",
      " The 'expenses' column contains duplicates, what would you like do? (pick one of the following options)\n",
      "(1) Keep all duplicates\n",
      "(2) Drop all duplicates that are identical across all columns\n",
      "(3) Drop all duplicates of this column\n",
      "Input the option number: 2\n",
      "\n",
      "\n",
      "Input the number of standard deviations from the mean you are willing to include for the '\u001b[1mid\u001b[0m' column.\n",
      "If you wish to keep outliers for this column, please write all.\n",
      "Input standard deviations: 1\n",
      "There are \u001b[1m566\u001b[0m rows that are outliers accoridng to your standard deviation value.\n",
      "These rows will be deleted from the original dataset.\n",
      "\n",
      "\n",
      "\n",
      "'Smart' duplication deletion: look at the numerical columns of duplicated rows and only delete duplicates that are 'similar'\n",
      "Confirm if you would like to run this duplicate deletion method: 2\n",
      "\u001b[1m** Numerical Data Cleaning Complete! **\u001b[0m\n"
     ]
    }
   ],
   "source": [
    "import warnings\n",
    "warnings.filterwarnings('ignore')\n",
    "\n",
    "for column in df:\n",
    "    if(df[column].dtype == 'int64' or df[column].dtype == 'float64'):\n",
    "        clean_numerical (column, df)\n",
    "\n",
    "# Smart Duplication Removal\n",
    "print(\"'Smart' duplication deletion: look at the numerical columns of duplicated rows and only delete duplicates that are 'similar'\")\n",
    "confirm = input(\"Confirm if you would like to run this duplicate deletion method: \")\n",
    "if confirm == \"yes\" or confirm == \"y\":\n",
    "    smart_dup = pd.DataFrame(1 - squareform(pdist(df.set_index('id'), lambda u,v: (u != v).mean())))\n",
    "    smart_dup.values[[np.arange(smart_dup.shape[0])]*2] = 0\n",
    "    smart_dup = smart_dup.mask(np.triu(np.ones(smart_dup.shape, dtype=np.bool_)))\n",
    "    duplicates = smart_dup[smart_dup > 0.8]\n",
    "    dup_list = np.stack(duplicates.notnull().values.nonzero()).T.tolist()\n",
    "    print('\\033[1m' + \"Below is the set duplicated rows that our algorithm found: \" + '\\033[0m')\n",
    "    print(\"Use the interactive toggle to compare the two 'similar' rows. Note that the duplicates will be deleted from the original dataframe.\")\n",
    "    for dup in dup_list:\n",
    "        display(df.iloc[[dup[0],dup[1]],:])\n",
    "    for dup in dup_list:\n",
    "        try:\n",
    "            df.drop(df.index[dup[0]], inplace=True)\n",
    "        except:\n",
    "            continue\n",
    "print('\\033[1m' + \"** Numerical Data Cleaning Complete! **\" + '\\033[0m')"
   ]
  },
  {
   "cell_type": "code",
   "execution_count": 16,
   "id": "f831bbbc",
   "metadata": {},
   "outputs": [
    {
     "name": "stdout",
     "output_type": "stream",
     "text": [
      "\u001b[1mVisualizing the Missing Data: Completeness of Dataset\u001b[0m\n"
     ]
    },
    {
     "data": {
      "image/png": "[encoded data removed]",
      "text/plain": [
       "<Figure size 1800x720 with 3 Axes>"
      ]
     },
     "metadata": {
      "needs_background": "light"
     },
     "output_type": "display_data"
    }
   ],
   "source": [
    "print('\\033[1m' + \"Visualizing the Missing Data: Completeness of Dataset\" + '\\033[0m')\n",
    "msno.bar(df);"
   ]
  },
  {
   "cell_type": "code",
   "execution_count": 17,
   "id": "25e51c79",
   "metadata": {},
   "outputs": [
    {
     "name": "stdout",
     "output_type": "stream",
     "text": [
      "\u001b[1mVisualizing the Missing Data: Data Completion Patterns\u001b[0m\n",
      "Note: This is from a random sample of 100 entries.\n"
     ]
    },
    {
     "data": {
      "image/png": "[encoded data removed]",
      "text/plain": [
       "<Figure size 1800x720 with 2 Axes>"
      ]
     },
     "metadata": {
      "needs_background": "light"
     },
     "output_type": "display_data"
    }
   ],
   "source": [
    "print('\\033[1m' + \"Visualizing the Missing Data: Data Completion Patterns\" + '\\033[0m')\n",
    "print(\"Note: This is from a random sample of 100 entries.\")\n",
    "msno.matrix(df.sample(100));"
   ]
  },
  {
   "cell_type": "code",
   "execution_count": 18,
   "id": "14065889",
   "metadata": {},
   "outputs": [
    {
     "name": "stdout",
     "output_type": "stream",
     "text": [
      "\u001b[1mVisualizing the Missing Data: Correlation Between Data\u001b[0m\n"
     ]
    },
    {
     "data": {
      "image/png": "[encoded data removed]",
      "text/plain": [
       "<Figure size 1440x864 with 2 Axes>"
      ]
     },
     "metadata": {
      "needs_background": "light"
     },
     "output_type": "display_data"
    }
   ],
   "source": [
    "print('\\033[1m' + \"Visualizing the Missing Data: Correlation Between Data\" + '\\033[0m')\n",
    "msno.heatmap(df);"
   ]
  },
  {
   "cell_type": "code",
   "execution_count": 19,
   "id": "427aedf3",
   "metadata": {},
   "outputs": [
    {
     "name": "stdout",
     "output_type": "stream",
     "text": [
      "There are \u001b[1m0\u001b[0m missing entries in the 'age' column.\n",
      "\n",
      "\n",
      "There are \u001b[1m0\u001b[0m missing entries in the 'sex' column.\n",
      "\n",
      "\n",
      "There are \u001b[1m0\u001b[0m missing entries in the 'bmi' column.\n",
      "\n",
      "\n",
      "There are \u001b[1m0\u001b[0m missing entries in the 'children' column.\n",
      "\n",
      "\n",
      "There are \u001b[1m0\u001b[0m missing entries in the 'smoker' column.\n",
      "\n",
      "\n",
      "There are \u001b[1m0\u001b[0m missing entries in the 'region' column.\n",
      "\n",
      "\n",
      "There are \u001b[1m0\u001b[0m missing entries in the 'expenses' column.\n",
      "\n",
      "\n",
      "There are \u001b[1m0\u001b[0m missing entries in the 'id' column.\n",
      "\n",
      "\n",
      "\u001b[1m** Missing Data Cleaning Complete! **\u001b[0m\n"
     ]
    }
   ],
   "source": [
    "for column in df:\n",
    "    print(\"There are \" + '\\033[1m' + str(df[pd.isnull(df[column])].shape[0]) + '\\033[0m' + \" missing entries in the '\" + column + \"' column.\")\n",
    "    if df[pd.isnull(df[column])].shape[0] > 0:\n",
    "        print(\"Pick one of the following options to handle these missing entries.\")\n",
    "        print(\"(1) Leave the missing entries as they are, so the missing values do not contribute to any computations.\")\n",
    "        print(\"(2) Drop the rows with a missing entry.\")\n",
    "        print(\"(3) Drop the entire column.\")\n",
    "        print(\"(4) Simple Imputation: Replace the missing data with a substituted value.\")\n",
    "        if (df[column].dtype == 'int64' or df[column].dtype == 'float64'):\n",
    "            print(\"(5) Advanced Imputation: Using Machine Learning to substitute missing data.\")\n",
    "        time.sleep(0.05)\n",
    "        del_option = input('\\033[1m' + \"Input the option number: \" + '\\033[0m')\n",
    "        if del_option == \"1\" or del_option == \"(1)\":\n",
    "            continue\n",
    "        elif del_option == \"2\" or del_option == \"(2)\":\n",
    "            df.dropna(subset=[column],how='any',inplace=True)\n",
    "        elif del_option == \"3\" or del_option == \"(3)\":\n",
    "            df.drop(columns=[column], inplace=True)\n",
    "        elif del_option == \"4\" or del_option == \"(4)\":\n",
    "            print(\"(a) Impute with a constant value.\")\n",
    "            print(\"(b) Impute with the most frequent value.\")\n",
    "            if (df[column].dtype == 'int64' or df[column].dtype == 'float64'):\n",
    "                print(\"(c) Impute with the mean value of the column.\")\n",
    "                print(\"(d) Impute with the median value of the column.\")\n",
    "            time.sleep(0.05)\n",
    "            imp_option = input('\\033[1m' + \"Input the letter for simple imputation: \" + '\\033[0m') \n",
    "            if imp_option == 'a' or imp_option == '(a)':\n",
    "                constant = input('\\033[1m' + \"Input the constant that you wish to substitute: \" + '\\033[0m') \n",
    "                if (df[column].dtype == 'int64' or df[column].dtype == 'float64'):\n",
    "                    mean_imputer = SimpleImputer(strategy='constant', fill_value=int(constant))\n",
    "                elif(df[column].dtype == 'object'):\n",
    "                    mean_imputer = SimpleImputer(strategy='constant', fill_value=constant)\n",
    "            elif imp_option == 'b' or imp_option == '(b)':\n",
    "                mean_imputer = SimpleImputer(strategy='most_frequent')\n",
    "            elif imp_option == 'c' or imp_option == '(c)':\n",
    "                mean_imputer = SimpleImputer(strategy='mean')\n",
    "            elif imp_option == 'd' or imp_option == '(d)':\n",
    "                mean_imputer = SimpleImputer(strategy='median')\n",
    "            df[column] = mean_imputer.fit_transform(df[[column]]).ravel()\n",
    "        elif del_option == \"5\" or del_option == \"(5)\":\n",
    "            print(\"(a) Impute using the K-Nearest Neighbor Imputation. More details can be found here: https://scikit-learn.org/stable/modules/impute.html#nearest-neighbors-imputation\")\n",
    "            print(\"(b) Impute using Multivariate imputation by chained equations (MICE). More details can be found here: https://scikit-learn.org/stable/modules/impute.html#multivariate-feature-imputation\")\n",
    "            time.sleep(0.05)\n",
    "            imp_option = input('\\033[1m' + \"Input the letter for advanced imputation: \" + '\\033[0m')\n",
    "            if imp_option == 'a' or imp_option == '(a)':\n",
    "                knn_imputer = KNNImputer(n_neighbors=2, weights=\"uniform\")\n",
    "                df[column] = knn_imputer.fit_transform(df[[column]])\n",
    "            elif imp_option == 'b' or imp_option == '(b)':\n",
    "                mice_imputer = IterativeImputer()\n",
    "                df[column] = mice_imputer.fit_transform(df[[column]])\n",
    "    print(\"\\n\")\n",
    "print('\\033[1m' + \"** Missing Data Cleaning Complete! **\" + '\\033[0m') "
   ]
  },
  {
   "cell_type": "code",
   "execution_count": 20,
   "id": "d8350a4b",
   "metadata": {},
   "outputs": [
    {
     "data": {
      "application/vnd.jupyter.widget-view+json": {
       "model_id": "1045cc93dd2e43af902333bde2ac043c",
       "version_major": 2,
       "version_minor": 0
      },
      "text/plain": [
       "interactive(children=(Dropdown(description='column', options=('age', 'sex', 'bmi', 'children', 'smoker', 'regi…"
      ]
     },
     "metadata": {},
     "output_type": "display_data"
    }
   ],
   "source": [
    "@interact\n",
    "def describe(column=list(df.columns)):\n",
    "    print(df[column].describe())"
   ]
  },
  {
   "cell_type": "code",
   "execution_count": 21,
   "id": "eb684cde",
   "metadata": {},
   "outputs": [
    {
     "data": {
      "application/vnd.jupyter.widget-view+json": {
       "model_id": "1607139a71cc43949e3da08cc5c12ad9",
       "version_major": 2,
       "version_minor": 0
      },
      "text/plain": [
       "interactive(children=(Dropdown(description='x', options=('age', 'bmi', 'children', 'expenses', 'id'), value='a…"
      ]
     },
     "metadata": {},
     "output_type": "display_data"
    }
   ],
   "source": [
    "@interact\n",
    "def hist_plot(x=list(df.select_dtypes('number').columns),\n",
    "                 theme=list(cf.themes.THEMES.keys()), \n",
    "                 colorscale=list(cf.colors._scales_names.keys())):\n",
    "        \n",
    "    df[x].iplot(kind='hist',\n",
    "             title=f'Histogram of {x}',\n",
    "            theme=theme, colorscale=colorscale)"
   ]
  },
  {
   "cell_type": "code",
   "execution_count": 22,
   "id": "f5bd282f",
   "metadata": {},
   "outputs": [
    {
     "data": {
      "application/vnd.jupyter.widget-view+json": {
       "model_id": "0b268fae74f74ac381e38631ff29ecc9",
       "version_major": 2,
       "version_minor": 0
      },
      "text/plain": [
       "interactive(children=(Dropdown(description='x', options=('age', 'bmi', 'children', 'expenses', 'id'), value='a…"
      ]
     },
     "metadata": {},
     "output_type": "display_data"
    }
   ],
   "source": [
    "@interact\n",
    "def scatter_plot(x=list(df.select_dtypes('number').columns), \n",
    "                 y=list(df.select_dtypes('number').columns)[1:],\n",
    "                 theme=list(cf.themes.THEMES.keys()), \n",
    "                 colorscale=list(cf.colors._scales_names.keys())):\n",
    "    print(x)\n",
    "    df.iplot(kind='scatter', x=x, y=y, mode='markers', \n",
    "             xTitle=x, yTitle=y, \n",
    "             #text='title',\n",
    "             title=f'Scatter Plot of {y} against {x}',\n",
    "            theme=theme, colorscale=colorscale)"
   ]
  },
  {
   "cell_type": "code",
   "execution_count": 23,
   "id": "6231c567",
   "metadata": {},
   "outputs": [
    {
     "name": "stdout",
     "output_type": "stream",
     "text": [
      "\u001b[1mExport the Final Dataset\u001b[0m\n",
      "Input the filename of the export followed by the file extension: \n"
     ]
    },
    {
     "ename": "IndexError",
     "evalue": "list index out of range",
     "output_type": "error",
     "traceback": [
      "\u001b[1;31m---------------------------------------------------------------------------\u001b[0m",
      "\u001b[1;31mIndexError\u001b[0m                                Traceback (most recent call last)",
      "Input \u001b[1;32mIn [23]\u001b[0m, in \u001b[0;36m<cell line: 5>\u001b[1;34m()\u001b[0m\n\u001b[0;32m      3\u001b[0m filename \u001b[38;5;241m=\u001b[39m \u001b[38;5;28minput\u001b[39m(\u001b[38;5;124m\"\u001b[39m\u001b[38;5;124mInput the filename of the export followed by the file extension: \u001b[39m\u001b[38;5;124m\"\u001b[39m)\n\u001b[0;32m      4\u001b[0m filename_spl \u001b[38;5;241m=\u001b[39m filename\u001b[38;5;241m.\u001b[39msplit(\u001b[38;5;124m'\u001b[39m\u001b[38;5;124m.\u001b[39m\u001b[38;5;124m'\u001b[39m)\n\u001b[1;32m----> 5\u001b[0m \u001b[38;5;28;01mif\u001b[39;00m \u001b[43mfilename_spl\u001b[49m\u001b[43m[\u001b[49m\u001b[38;5;241;43m1\u001b[39;49m\u001b[43m]\u001b[49m \u001b[38;5;241m==\u001b[39m \u001b[38;5;124m'\u001b[39m\u001b[38;5;124mcsv\u001b[39m\u001b[38;5;124m'\u001b[39m:\n\u001b[0;32m      6\u001b[0m     df\u001b[38;5;241m.\u001b[39mto_csv(filename,index\u001b[38;5;241m=\u001b[39m\u001b[38;5;28;01mFalse\u001b[39;00m)\n\u001b[0;32m      7\u001b[0m \u001b[38;5;28;01melif\u001b[39;00m filename_spl[\u001b[38;5;241m1\u001b[39m] \u001b[38;5;241m==\u001b[39m \u001b[38;5;124m'\u001b[39m\u001b[38;5;124mcsv\u001b[39m\u001b[38;5;124m'\u001b[39m:\n",
      "\u001b[1;31mIndexError\u001b[0m: list index out of range"
     ]
    }
   ],
   "source": [
    "print('\\033[1m' + \"Export the Final Dataset\" + '\\033[0m')\n",
    "time.sleep(0.05)\n",
    "filename = input(\"Input the filename of the export followed by the file extension: \")\n",
    "filename_spl = filename.split('.')\n",
    "if filename_spl[1] == 'csv':\n",
    "    df.to_csv(filename,index=False)\n",
    "elif filename_spl[1] == 'csv':\n",
    "    df.to_excel(filename,index=False)"
   ]
  },
  {
   "cell_type": "code",
   "execution_count": null,
   "id": "93e84ab2",
   "metadata": {},
   "outputs": [],
   "source": []
  }
 ],
 "metadata": {
  "kernelspec": {
   "display_name": "Python 3 (ipykernel)",
   "language": "python",
   "name": "python3"
  },
  "language_info": {
   "codemirror_mode": {
    "name": "ipython",
    "version": 3
   },
   "file_extension": ".py",
   "mimetype": "text/x-python",
   "name": "python",
   "nbconvert_exporter": "python",
   "pygments_lexer": "ipython3",
   "version": "3.9.12"
  }
 },
 "nbformat": 4,
 "nbformat_minor": 5
}
